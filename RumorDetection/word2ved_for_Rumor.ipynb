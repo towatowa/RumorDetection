{
 "cells": [
  {
   "cell_type": "code",
   "execution_count": 1,
   "metadata": {},
   "outputs": [],
   "source": [
    "import os\n",
    "import random\n",
    "import json\n",
    "import string"
   ]
  },
  {
   "cell_type": "code",
   "execution_count": 2,
   "metadata": {},
   "outputs": [],
   "source": [
    "# 获取谣言原文和非谣言原文和谣言评论和非谣言评论文件的全部路径\n",
    "def get_data_dir(target_path):\n",
    "    rumor_class_dirs = os.listdir(target_path)\n",
    "\n",
    "    rumor_file_dir_list = [] #谣言数据根目录\n",
    "    non_rumor_file_dir_list = [] #非谣言数据根目录\n",
    "\n",
    "    #解析谣言和非谣言的数据目录\n",
    "    for filename in rumor_class_dirs:\n",
    "        rumor_file_dir_list.append(os.path.join(target_path, filename, \"rumours\"))\n",
    "        non_rumor_file_dir_list.append(os.path.join(target_path, filename, \"non-rumours\"))\n",
    "\n",
    "    all_non_rumor_content_file_dir_list = [] #所有谣言评论数据目录（根的下下一级目录）\n",
    "    all_rumor_content_file_dir_list = []\n",
    "    all_rumor_srctweet_file_dir_list = [] #所有谣言原文数据目录（根的下下一级目录）\n",
    "    all_non_rumor_srctweet_file_dir_list = []\n",
    "    a_rumor_content_dir = []\n",
    "    a_non_rumor_content_dir = []\n",
    "    \n",
    "    for files in rumor_file_dir_list: \n",
    "        files_dir = os.listdir(files)\n",
    "        for file_dir_files in files_dir:\n",
    "            all_rumor_content_file_dir_list.append(os.path.join(files, file_dir_files, \"reactions\"))\n",
    "            all_rumor_srctweet_file_dir_list.append(os.path.join(files, file_dir_files, \"source-tweet\"))\n",
    "\n",
    "    for files in non_rumor_file_dir_list:\n",
    "        file_dir = os.listdir(files)\n",
    "        for file_dir_files in file_dir:\n",
    "            all_non_rumor_content_file_dir_list.append(os.path.join(files, file_dir_files, \"reactions\"))\n",
    "            all_non_rumor_srctweet_file_dir_list.append(os.path.join(files, file_dir_files, \"source-tweet\"))\n",
    "            \n",
    "    return all_rumor_srctweet_file_dir_list, all_rumor_content_file_dir_list, all_non_rumor_srctweet_file_dir_list, all_non_rumor_content_file_dir_list"
   ]
  },
  {
   "cell_type": "code",
   "execution_count": 3,
   "metadata": {},
   "outputs": [
    {
     "name": "stdout",
     "output_type": "stream",
     "text": [
      "D:\\NoteBook\\RumerDetection\\data\\pheme-rnr-dataset\\charliehebdo\\rumours\\552783238415265792\\source-tweet D:\\NoteBook\\RumerDetection\\data\\pheme-rnr-dataset\\charliehebdo\\non-rumours\\552784600502915072\\source-tweet\n"
     ]
    }
   ],
   "source": [
    "target_path = r\"D:\\NoteBook\\RumerDetection\\data\\pheme-rnr-dataset\"\n",
    "all_rumor_srctweet_list, _, all_non_rumor_srctweet_list, _ = get_data_dir(target_path)\n",
    "print(all_rumor_srctweet_list[0], all_non_rumor_srctweet_list[0])"
   ]
  },
  {
   "cell_type": "code",
   "execution_count": 4,
   "metadata": {},
   "outputs": [],
   "source": [
    "#读取数据，通过文件的路径读取，label为谣言和非谣言的标签\n",
    "def read_data(data_dir_list, label):\n",
    "    data = []\n",
    "    c = 1\n",
    "    for dir in data_dir_list:\n",
    "        for filename in os.listdir(dir):\n",
    "            with open(os.path.join(dir, filename), 'r', encoding='utf8') as f:\n",
    "                content = f.read()\n",
    "                if c <= 1:\n",
    "                    print(content, type(content))\n",
    "                    c+=1\n",
    "            data_dict = json.loads(content)\n",
    "            data.append([data_dict[\"text\"], label])\n",
    "    return data #data[[content, label]]"
   ]
  },
  {
   "cell_type": "code",
   "execution_count": 5,
   "metadata": {},
   "outputs": [
    {
     "name": "stdout",
     "output_type": "stream",
     "text": [
      "{\"contributors\":null,\"truncated\":false,\"text\":\"Breaking: At least 10 dead, 5 injured after tO gunman open fire in offices of Charlie  Hebdo,satirical mag that published Mohammed cartoons\",\"in_reply_to_status_id\":null,\"id\":552783238415265792,\"favorite_count\":14,\"source\":\"<a href=\\\"http:\\/\\/twitter.com\\/download\\/iphone\\\" rel=\\\"nofollow\\\">Twitter for iPhone<\\/a>\",\"retweeted\":false,\"coordinates\":null,\"entities\":{\"symbols\":[],\"user_mentions\":[],\"hashtags\":[],\"urls\":[]},\"in_reply_to_screen_name\":null,\"id_str\":\"552783238415265792\",\"retweet_count\":159,\"in_reply_to_user_id\":null,\"favorited\":false,\"user\":{\"follow_request_sent\":false,\"profile_use_background_image\":true,\"profile_text_color\":\"333333\",\"default_profile_image\":false,\"id\":384779793,\"profile_background_image_url_https\":\"https:\\/\\/abs.twimg.com\\/images\\/themes\\/theme1\\/bg.png\",\"verified\":false,\"profile_location\":null,\"profile_image_url_https\":\"https:\\/\\/pbs.twimg.com\\/profile_images\\/1576508322\\/Henry_Samuel_normal.jpg\",\"profile_sidebar_fill_color\":\"DDEEF6\",\"entities\":{\"url\":{\"urls\":[{\"url\":\"http:\\/\\/t.co\\/xoNb1xjUhG\",\"indices\":[0,22],\"expanded_url\":\"http:\\/\\/www.telegraph.co.uk\\/journalists\\/henry-samuel\\/\",\"display_url\":\"telegraph.co.uk\\/journalists\\/he\\u2026\"}]},\"description\":{\"urls\":[]}},\"followers_count\":1628,\"profile_sidebar_border_color\":\"C0DEED\",\"id_str\":\"384779793\",\"profile_background_color\":\"C0DEED\",\"listed_count\":78,\"is_translation_enabled\":false,\"utc_offset\":3600,\"statuses_count\":1901,\"description\":\"Paris correspondent, The Daily Telegraph. All views expressed are mine only.\",\"friends_count\":246,\"location\":\"Paris\",\"profile_link_color\":\"0084B4\",\"profile_image_url\":\"http:\\/\\/pbs.twimg.com\\/profile_images\\/1576508322\\/Henry_Samuel_normal.jpg\",\"following\":false,\"geo_enabled\":false,\"profile_background_image_url\":\"http:\\/\\/abs.twimg.com\\/images\\/themes\\/theme1\\/bg.png\",\"name\":\"Henry Samuel\",\"lang\":\"en\",\"profile_background_tile\":false,\"favourites_count\":5,\"screen_name\":\"H_E_Samuel\",\"notifications\":false,\"url\":\"http:\\/\\/t.co\\/xoNb1xjUhG\",\"created_at\":\"Tue Oct 04 09:36:17 +0000 2011\",\"contributors_enabled\":false,\"time_zone\":\"Paris\",\"protected\":false,\"default_profile\":true,\"is_translator\":false},\"geo\":null,\"in_reply_to_user_id_str\":null,\"lang\":\"en\",\"created_at\":\"Wed Jan 07 11:06:08 +0000 2015\",\"in_reply_to_status_id_str\":null,\"place\":null} <class 'str'>\n",
      "{\"contributors\":null,\"truncated\":false,\"text\":\"Charlie Hebdo became well known for publishing the Muhammed cartoons two years ago\",\"in_reply_to_status_id\":null,\"id\":552784600502915072,\"favorite_count\":41,\"source\":\"<a href=\\\"http:\\/\\/twitter.com\\\" rel=\\\"nofollow\\\">Twitter Web Client<\\/a>\",\"retweeted\":false,\"coordinates\":null,\"entities\":{\"symbols\":[],\"user_mentions\":[],\"hashtags\":[],\"urls\":[]},\"in_reply_to_screen_name\":null,\"id_str\":\"552784600502915072\",\"retweet_count\":202,\"in_reply_to_user_id\":null,\"favorited\":false,\"user\":{\"follow_request_sent\":false,\"profile_use_background_image\":true,\"profile_text_color\":\"5A5A5A\",\"default_profile_image\":false,\"id\":331658004,\"profile_background_image_url_https\":\"https:\\/\\/pbs.twimg.com\\/profile_background_images\\/337316083\\/bbc_twitter_template1280.jpg\",\"verified\":true,\"profile_location\":null,\"profile_image_url_https\":\"https:\\/\\/pbs.twimg.com\\/profile_images\\/1497949200\\/DanielSandfordSmall_normal.jpg\",\"profile_sidebar_fill_color\":\"FFFFFF\",\"entities\":{\"url\":{\"urls\":[{\"url\":\"http:\\/\\/t.co\\/tPNR3GoVZJ\",\"indices\":[0,22],\"expanded_url\":\"http:\\/\\/news.bbc.co.uk\",\"display_url\":\"news.bbc.co.uk\"}]},\"description\":{\"urls\":[]}},\"followers_count\":41591,\"profile_sidebar_border_color\":\"CCCCCC\",\"id_str\":\"331658004\",\"profile_background_color\":\"FFFFFF\",\"listed_count\":1657,\"is_translation_enabled\":false,\"utc_offset\":14400,\"statuses_count\":15128,\"description\":\"I am Home Affairs Correspondent for BBC News. Police, prisons, law, crime and terrorism. Before that Moscow Correspondent so still tweet about Russia\\/Ukraine.\",\"friends_count\":2268,\"location\":\"\",\"profile_link_color\":\"1F527B\",\"profile_image_url\":\"http:\\/\\/pbs.twimg.com\\/profile_images\\/1497949200\\/DanielSandfordSmall_normal.jpg\",\"following\":false,\"geo_enabled\":true,\"profile_banner_url\":\"https:\\/\\/pbs.twimg.com\\/profile_banners\\/331658004\\/1360223450\",\"profile_background_image_url\":\"http:\\/\\/pbs.twimg.com\\/profile_background_images\\/337316083\\/bbc_twitter_template1280.jpg\",\"name\":\"Daniel Sandford\",\"lang\":\"en\",\"profile_background_tile\":false,\"favourites_count\":0,\"screen_name\":\"BBCDanielS\",\"notifications\":false,\"url\":\"http:\\/\\/t.co\\/tPNR3GoVZJ\",\"created_at\":\"Fri Jul 08 14:32:54 +0000 2011\",\"contributors_enabled\":false,\"time_zone\":\"Moscow\",\"protected\":false,\"default_profile\":false,\"is_translator\":false},\"geo\":null,\"in_reply_to_user_id_str\":null,\"lang\":\"en\",\"created_at\":\"Wed Jan 07 11:11:33 +0000 2015\",\"in_reply_to_status_id_str\":null,\"place\":null} <class 'str'>\n",
      "谣言的文本总数： 458\n",
      "非谣言的文本总数: 1621\n"
     ]
    }
   ],
   "source": [
    "#获取谣言数据和非谣言数据，并输出谣言和非谣言的文本数量\n",
    "all_rumor_data = read_data(all_rumor_srctweet_list, 1)\n",
    "all_non_rumor_data = read_data(all_non_rumor_srctweet_list, 0)\n",
    "print(\"谣言的文本总数：\",  len(all_rumor_data))\n",
    "print(\"非谣言的文本总数:\", len(all_non_rumor_data))"
   ]
  },
  {
   "cell_type": "code",
   "execution_count": 6,
   "metadata": {},
   "outputs": [
    {
     "ename": "ModuleNotFoundError",
     "evalue": "No module named 'emoji'",
     "output_type": "error",
     "traceback": [
      "\u001b[1;31m---------------------------------------------------------------------------\u001b[0m",
      "\u001b[1;31mModuleNotFoundError\u001b[0m                       Traceback (most recent call last)",
      "\u001b[1;32m<ipython-input-6-dc2e920faf64>\u001b[0m in \u001b[0;36m<module>\u001b[1;34m\u001b[0m\n\u001b[0;32m      1\u001b[0m \u001b[1;32mimport\u001b[0m \u001b[0municodedata\u001b[0m\u001b[1;33m\u001b[0m\u001b[0m\n\u001b[1;32m----> 2\u001b[1;33m \u001b[1;32mimport\u001b[0m \u001b[0memoji\u001b[0m\u001b[1;33m\u001b[0m\u001b[0m\n\u001b[0m\u001b[0;32m      3\u001b[0m \u001b[1;32mimport\u001b[0m \u001b[0municodedata\u001b[0m\u001b[1;33m\u001b[0m\u001b[0m\n\u001b[0;32m      4\u001b[0m \u001b[1;33m\u001b[0m\u001b[0m\n\u001b[0;32m      5\u001b[0m \u001b[1;31m#emoji、boxDrawing、Face：https://apps.timwhitlock.info/emoji/tables/unicode#block-6c-other-additional-symbols\u001b[0m\u001b[1;33m\u001b[0m\u001b[1;33m\u001b[0m\u001b[0m\n",
      "\u001b[1;31mModuleNotFoundError\u001b[0m: No module named 'emoji'"
     ]
    }
   ],
   "source": [
    "import unicodedata\n",
    "import emoji\n",
    "import unicodedata\n",
    "\n",
    "#emoji、boxDrawing、Face：https://apps.timwhitlock.info/emoji/tables/unicode#block-6c-other-additional-symbols\n",
    "import re\n",
    "# 过滤emoji更全的方法\n",
    "#pip install emoji\n",
    " \n",
    "def filterEmoji(desstr,restr=' '):\n",
    "    # 过滤emoji\n",
    "    try:\n",
    "        co = re.compile(u'[\\U00010000-\\U0010ffff]')\n",
    "    except re.error:\n",
    "        co = re.compile(u'[\\uD800-\\uDBFF][\\uDC00-\\uDFFF]')\n",
    "    return co.sub(restr, desstr)\n",
    " \n",
    "def filterBoxDrawing(desstr, restr=' '):\n",
    "    # 过滤形如：╠、╤等boxdrawing字符\n",
    "    co = re.compile(u'[\\u2500-\\u257f]')\n",
    "    return co.sub(restr, desstr)\n",
    " \n",
    "def filterFace(desstr, restr= ' '):\n",
    "    # 过滤：形如[衰]、[生气]、[开心]、[捂脸]等表情，用词典更好些\n",
    "    p = re.compile('\\[.{1,4}\\]')\n",
    "    t = p.findall(desstr)\n",
    "    for i in t:\n",
    "        desstr = desstr.replace(i, restr)\n",
    "    return desstr\n",
    " \n",
    "def filterSpecialSym(desstr, restr=' '):\n",
    "    #print u'1\\u20e3\\ufe0f' #10个特殊的类似emoij的表情\n",
    "    co = re.compile(u'[0-9]?\\u20e3\\ufe0f?')\n",
    "    return co.sub(restr, desstr)\n",
    " \n",
    "def bodyNorm(body):\n",
    "    #body = re.compile(u'''\\\\\\\\\\\\\\\\\\\\\\\\\\\\\\\\n''').sub(' ', body) # 得用16个斜杠才行震惊\n",
    "    body = re.compile(u'''\\\\\\\\+?n''').sub(' ', body)\n",
    "    body = filterSpecialSym(body)\n",
    "    body = filterEmoji(body)\n",
    "    body = filterBoxDrawing(body)\n",
    "    body = filterFace(body)\n",
    "    return body"
   ]
  },
  {
   "cell_type": "markdown",
   "metadata": {},
   "source": [
    "# 标点符号和去表情实验"
   ]
  },
  {
   "cell_type": "code",
   "execution_count": 7,
   "metadata": {},
   "outputs": [
    {
     "name": "stdout",
     "output_type": "stream",
     "text": [
      "处理前: dhadhh 8 * 9.dapa😳😒🙈😳🙈''/..///.1__===1- dadkhh\n",
      "处理后: dhadhh 8 * 9.dapa     ''/..///.1__===1- dadkhh\n"
     ]
    },
    {
     "name": "stderr",
     "output_type": "stream",
     "text": [
      "Building prefix dict from the default dictionary ...\n",
      "Loading model from cache C:\\Users\\towa\\AppData\\Local\\Temp\\jieba.cache\n",
      "Loading model cost 0.609 seconds.\n",
      "Prefix dict has been built successfully.\n"
     ]
    },
    {
     "name": "stdout",
     "output_type": "stream",
     "text": [
      "分词后: dhadhh 8 9 dapa .. 1 __ 1 dadkhh\n"
     ]
    }
   ],
   "source": [
    "contentbody = \"dhadhh 8 * 9.dapa😳😒🙈😳🙈''/..///.1__===1- dadkhh\"\n",
    "#ucontentbody = str(contentbody, 'utf-8')\n",
    "print('处理前:',contentbody)\n",
    "body = bodyNorm(contentbody)\n",
    "print('处理后:',body)\n",
    " \n",
    "import jieba\n",
    "from string import punctuation as enpunctuation\n",
    "zhonPunctuation = u'''＂ ＃ ＄ ％ ＆ ＇ （ ） ＊ ＋ ， － ／ ： ； ＜ ＝ ＞ ＠ ［ ＼ ］ ＾ ＿ ｀ ｛ ｜ ｝ ～ ｟ ｠ ｢ ｣ ､  〃 〈 〉 《 》 「 」 『 』 【 】 〔 〕 〖 〗 〘 〙 〚 〛 〜 〝 〞 〟  〾 〿 – — ‘ ’ ‛ “ ” „ ‟ … ‧ ﹏ ﹑ ﹔ · ！ ？ ｡ → 、 。'''\n",
    "punctuations = set([str(i) for i in enpunctuation]) | set([str(i) for i in zhonPunctuation])\n",
    "words = [seg for seg in jieba.cut(body) if seg!=' ' and seg not in punctuations]\n",
    "print('分词后:',' '.join(words))"
   ]
  },
  {
   "cell_type": "code",
   "execution_count": 8,
   "metadata": {},
   "outputs": [],
   "source": [
    "#将数据合并后并打散\n",
    "all_data = all_rumor_data + all_non_rumor_data\n",
    "random.shuffle(all_data)"
   ]
  },
  {
   "cell_type": "code",
   "execution_count": 9,
   "metadata": {
    "scrolled": true
   },
   "outputs": [],
   "source": [
    "#将数据分割为训练集和测试集,分为带标签和不带标签总共四个文件\n",
    "def all_data_save(train, all_data, islabel, txtname):\n",
    "    # 在生成all_data.txt之前，首先将其清空\n",
    "    filename = train + '_' + txtname\n",
    "    data_path = './data/' + filename\n",
    "    with open(data_path, 'w') as f:\n",
    "        f.seek(0)\n",
    "        f.truncate()\n",
    "    count = 0\n",
    "    punc = '\\]~`!#$%^&*()_+-=|\\';\"\":/.,?><~·！@#￥%……&*（）——+-=“：’；、。，？》《{}1234567890→✔️\\[✏'\n",
    "    if islabel == 1 and train == 'train':\n",
    "        with open(data_path, 'a',encoding='UTF-8') as f:\n",
    "            for data in  all_data:\n",
    "                if count > int(0.9 * len(all_data)):#训练集和测试集9:1\n",
    "                    break\n",
    "                count += 1\n",
    "                #print(type(data))\n",
    "                data = [str(i) for i in data]\n",
    "                #data[0] = re.sub('@\\w+|http.*\\w+|\\n|[%s]+' %punc,\"\", data[0])\n",
    "                data[0] = re.sub('http.*',\" URL\", data[0]) #将链接替换为URL \n",
    "                data[0] = re.sub('@\\w+|\\n|[%s]+' %punc,\"\", data[0])\n",
    "                data[0] = bodyNorm(data[0]) #去表情\n",
    "                if len(data[0]) > 1:\n",
    "                    f.write(data[0].strip() + '\\t' + data[1] + '\\n')\n",
    "    elif islabel == 1 and train == 'test':\n",
    "        with open(data_path, 'a',encoding='UTF-8') as f:\n",
    "            for data in  all_data: \n",
    "                count += 1\n",
    "                if count < int(0.9 * len(all_data)):#训练集和测试集9:1\n",
    "                    continue\n",
    "               \n",
    "                #print(type(data))\n",
    "                data = [str(i) for i in data]\n",
    "                #data[0] = re.sub('@\\w+|http.*\\w+|\\n|[%s]+' %punc,\"\", data[0])\n",
    "                data[0] = re.sub('http.*',\" URL\", data[0]) #将链接替换为URL \n",
    "                data[0] = re.sub('@\\w+|\\n|[%s]+' %punc,\"\", data[0])\n",
    "                data[0] = bodyNorm(data[0]) #去表情\n",
    "                if len(data[0]) > 1:\n",
    "                    f.write(data[0].strip() + '\\t' + data[1] + '\\n')\n",
    "   \n",
    "    if islabel == 0 and train == 'train':\n",
    "        with open(data_path, 'a',encoding='UTF-8') as f:\n",
    "            for data in  all_data:\n",
    "                if count > int(0.9 * len(all_data)):#训练集和测试集9:1\n",
    "                    break\n",
    "                count += 1\n",
    "                #print(type(data))\n",
    "                data = [str(i) for i in data]\n",
    "                #data[0] = re.sub('@\\w+|http.*\\w+|\\n|[%s]+' %punc,\"\", data[0])\n",
    "                data[0] = re.sub('http.*',\" URL\", data[0]) #将链接替换为URL \n",
    "                data[0] = re.sub('@\\w+|\\n|[%s]+' %punc,\"\", data[0])\n",
    "                data[0] = bodyNorm(data[0]) #去表情\n",
    "                if len(data[0]) > 1 != \"\":\n",
    "                    f.write(data[0].strip() + '\\n')\n",
    "    elif islabel == 0 and train == 'test':\n",
    "        with open(data_path, 'a',encoding='UTF-8') as f:\n",
    "            for data in  all_data:\n",
    "                count += 1\n",
    "                if count < int(0.9 * len(all_data)):#训练集和测试集9:1\n",
    "                    continue\n",
    "                \n",
    "                #print(type(data))\n",
    "                data = [str(i) for i in data]\n",
    "                #data[0] = re.sub('@\\w+|http.*\\w+|\\n|[%s]+' %punc,\"\", data[0])\n",
    "                data[0] = re.sub('http.*',\" URL\", data[0]) #将链接替换为URL \n",
    "                data[0] = re.sub('@\\w+|\\n|[%s]+' %punc,\"\", data[0])\n",
    "                data[0] = bodyNorm(data[0]) #去表情\n",
    "                if len(data[0]) > 1:\n",
    "                    f.write(data[0].strip() + '\\n')"
   ]
  },
  {
   "cell_type": "code",
   "execution_count": 10,
   "metadata": {},
   "outputs": [],
   "source": [
    "all_data_save(\"train\", all_data, 1, \"data.txt\")\n",
    "all_data_save(\"test\", all_data, 1, \"data.txt\")\n",
    "all_data_save(\"train\", all_data, 0, \"data_non_label.txt\")\n",
    "all_data_save(\"test\", all_data, 0, \"data_non_label.txt\")"
   ]
  },
  {
   "cell_type": "markdown",
   "metadata": {},
   "source": [
    "# 分词和去停用词"
   ]
  },
  {
   "cell_type": "code",
   "execution_count": 11,
   "metadata": {},
   "outputs": [],
   "source": [
    "#分词和去停用词\n",
    "import pandas as pd\n",
    "import nltk\n",
    "from string import punctuation as enpunctuation"
   ]
  },
  {
   "cell_type": "code",
   "execution_count": 12,
   "metadata": {},
   "outputs": [
    {
     "data": {
      "text/plain": [
       "'# sentences: 1872'"
      ]
     },
     "execution_count": 12,
     "metadata": {},
     "output_type": "execute_result"
    }
   ],
   "source": [
    "with open('./data/train_data_non_label.txt', 'r', encoding='utf8') as f:\n",
    "    lines = f.readlines()\n",
    "    # st是sentence的缩写\n",
    "    #srctweet = [st.split() for st in lines]\n",
    "    #使用nltk分词\n",
    "    punctuations = set([str(i) for i in enpunctuation]) | set([str(i) for i in zhonPunctuation]) #去标点符号\n",
    "    srctweet = [nltk.word_tokenize(st) for st in lines if st != '' and st not in punctuations]\n",
    "    #srctweet = [nltk.word_tokenize(st) for st in lines]\n",
    "\n",
    "'# sentences: %d' % len(srctweet) # 输出 '# sentences: 42068'"
   ]
  },
  {
   "cell_type": "code",
   "execution_count": 13,
   "metadata": {},
   "outputs": [
    {
     "name": "stdout",
     "output_type": "stream",
     "text": [
      "# tokens: 9 ['Charlie', 'Hebdos', 'Last', 'Tweet', 'Spoofed']\n",
      "# tokens: 10 ['Trocadero', 'square', 'in', 'Paris', 'evacuated']\n",
      "# tokens: 20 ['held', 'by', 'gunman', 'at', 'kosher']\n"
     ]
    }
   ],
   "source": [
    "for st in srctweet[:3]:\n",
    "    print('# tokens:', len(st), st[:5])\n"
   ]
  },
  {
   "cell_type": "code",
   "execution_count": 14,
   "metadata": {},
   "outputs": [],
   "source": [
    "import jieba"
   ]
  },
  {
   "cell_type": "code",
   "execution_count": 15,
   "metadata": {},
   "outputs": [
    {
     "data": {
      "text/html": [
       "<div>\n",
       "<style scoped>\n",
       "    .dataframe tbody tr th:only-of-type {\n",
       "        vertical-align: middle;\n",
       "    }\n",
       "\n",
       "    .dataframe tbody tr th {\n",
       "        vertical-align: top;\n",
       "    }\n",
       "\n",
       "    .dataframe thead th {\n",
       "        text-align: right;\n",
       "    }\n",
       "</style>\n",
       "<table border=\"1\" class=\"dataframe\">\n",
       "  <thead>\n",
       "    <tr style=\"text-align: right;\">\n",
       "      <th></th>\n",
       "      <th>stopword</th>\n",
       "    </tr>\n",
       "  </thead>\n",
       "  <tbody>\n",
       "    <tr>\n",
       "      <th>0</th>\n",
       "      <td>😳</td>\n",
       "    </tr>\n",
       "    <tr>\n",
       "      <th>1</th>\n",
       "      <td>😒</td>\n",
       "    </tr>\n",
       "    <tr>\n",
       "      <th>2</th>\n",
       "      <td>🙈</td>\n",
       "    </tr>\n",
       "    <tr>\n",
       "      <th>3</th>\n",
       "      <td>😳🙈</td>\n",
       "    </tr>\n",
       "    <tr>\n",
       "      <th>4</th>\n",
       "      <td>😬</td>\n",
       "    </tr>\n",
       "  </tbody>\n",
       "</table>\n",
       "</div>"
      ],
      "text/plain": [
       "  stopword\n",
       "0        😳\n",
       "1        😒\n",
       "2        🙈\n",
       "3       😳🙈\n",
       "4        😬"
      ]
     },
     "execution_count": 15,
     "metadata": {},
     "output_type": "execute_result"
    }
   ],
   "source": [
    "stopwords=pd.read_csv(\"./data/stop_words-master/english.txt\",index_col=False,sep=\"\\t\",quoting=3,names=['stopword'], encoding='utf-8')\n",
    "stopwords.head()"
   ]
  },
  {
   "cell_type": "code",
   "execution_count": 16,
   "metadata": {},
   "outputs": [],
   "source": [
    "#清除标点符号\n",
    "def del_mark(word):\n",
    "    punc = '~`!#$%^&*()_+-=|\\';\":/.,?><~·！@#￥%……&*（）——+-=“：’；、。，？》《{\\]}\\[✏'\n",
    "    return re.sub(r\"[%s]+\" %punc, \"\", word)"
   ]
  },
  {
   "cell_type": "code",
   "execution_count": 17,
   "metadata": {},
   "outputs": [],
   "source": [
    "def drop_stopwords(srctweet,stopwords):\n",
    "    srctweet_clean = []\n",
    "    all_words = []\n",
    "    for line in srctweet:\n",
    "        line_clean = []\n",
    "        for word in line:\n",
    "            if word in stopwords:\n",
    "                continue\n",
    "            word = del_mark(word)\n",
    "            line_clean.append(word)\n",
    "            all_words.append(word)##记录所有line_clean中的词\n",
    "        srctweet_clean.append(line_clean)\n",
    "    return srctweet_clean,all_words\n",
    "    #print (contents_clean)\n",
    "        \n",
    "\n",
    "stopwords = stopwords.stopword.values.tolist()\n",
    "srctweet_clean,all_words = drop_stopwords(srctweet,stopwords)"
   ]
  },
  {
   "cell_type": "code",
   "execution_count": 18,
   "metadata": {},
   "outputs": [
    {
     "name": "stdout",
     "output_type": "stream",
     "text": [
      "['Charlie', 'Hebdos', 'Last', 'Tweet', 'Spoofed', 'ISIS', 'Leader', 'AlBaghdadi', 'URL']\n"
     ]
    },
    {
     "data": {
      "text/plain": [
       "(None, 'Charlie', 16354, 1872)"
      ]
     },
     "execution_count": 18,
     "metadata": {},
     "output_type": "execute_result"
    }
   ],
   "source": [
    "print(srctweet_clean[0]), all_words[0], len(all_words), len(srctweet_clean)"
   ]
  },
  {
   "cell_type": "code",
   "execution_count": 68,
   "metadata": {},
   "outputs": [
    {
     "name": "stdout",
     "output_type": "stream",
     "text": [
      "# tokens: 10 ['Police', 'tear', 'gas', 'protestors', 'row']\n",
      "# tokens: 11 ['The', 'Eiffel', 'Tower', 'dark', 'local']\n",
      "# tokens: 9 ['Ottawa', 'shooting', 'Soldier', 'dies', 'injuries']\n"
     ]
    }
   ],
   "source": [
    "for st in srctweet_clean[:3]:\n",
    "    print('# tokens:', len(st), st[:5])"
   ]
  },
  {
   "cell_type": "code",
   "execution_count": 69,
   "metadata": {},
   "outputs": [
    {
     "name": "stdout",
     "output_type": "stream",
     "text": [
      "26\n"
     ]
    }
   ],
   "source": [
    "max_srctweet = 0 #最大评论\n",
    "for i in srctweet_clean:\n",
    "    max_srctweet = max(max_srctweet, len(i))\n",
    "print(max_srctweet)"
   ]
  },
  {
   "cell_type": "code",
   "execution_count": 70,
   "metadata": {},
   "outputs": [],
   "source": [
    "#将all_words保存到txt\n",
    "def all_words_save_to_txt(all_words, path):\n",
    "    # 在生成all_data.txt之前，首先将其清空\n",
    "    with open(path, 'w') as f:\n",
    "        f.seek(0)\n",
    "        f.truncate()\n",
    "\n",
    "    with open(path, 'a',encoding='UTF-8') as f:\n",
    "        for data in  all_words:\n",
    "                f.write(data+'\\n')"
   ]
  },
  {
   "cell_type": "code",
   "execution_count": 23,
   "metadata": {},
   "outputs": [],
   "source": [
    "all_words_path = './data/all_words.txt'\n",
    "all_words_save_to_txt(all_words, all_words_path)"
   ]
  },
  {
   "cell_type": "markdown",
   "metadata": {},
   "source": [
    "# 建立索引"
   ]
  },
  {
   "cell_type": "code",
   "execution_count": 24,
   "metadata": {},
   "outputs": [],
   "source": [
    "import collections\n",
    "import math\n",
    "import sys\n",
    "import time\n",
    "import os\n",
    "import numpy as np\n",
    "import torch\n",
    "from torch import nn\n",
    "import torch.utils.data as Data"
   ]
  },
  {
   "cell_type": "code",
   "execution_count": 25,
   "metadata": {},
   "outputs": [
    {
     "data": {
      "text/plain": [
       "'# tokens: 39389'"
      ]
     },
     "execution_count": 25,
     "metadata": {},
     "output_type": "execute_result"
    }
   ],
   "source": [
    "counter = collections.Counter([tk for st in srctweet_clean for tk in st])\n",
    "counter = dict(filter(lambda x: x[1] >= 3, counter.items())) #将出现次数小于3的词去掉\n",
    "\n",
    "idx_to_token = [tk for tk, _ in counter.items()]\n",
    "token_to_idx = {tk: idx for idx, tk in enumerate(idx_to_token)}\n",
    "dataset = [[token_to_idx[tk] for tk in st if tk in token_to_idx]\n",
    "           for st in srctweet]\n",
    "num_tokens = sum([len(st) for st in dataset])\n",
    "'# tokens: %d' % num_tokens # 输出 '# tokens: '"
   ]
  },
  {
   "cell_type": "markdown",
   "metadata": {},
   "source": [
    "# 二次采样"
   ]
  },
  {
   "cell_type": "code",
   "execution_count": 26,
   "metadata": {},
   "outputs": [
    {
     "data": {
      "text/plain": [
       "'# tokens: 14362'"
      ]
     },
     "execution_count": 26,
     "metadata": {},
     "output_type": "execute_result"
    }
   ],
   "source": [
    "def discard(idx):\n",
    "    return random.uniform(0, 1) < 1 - math.sqrt(\n",
    "        1e-4 / counter[idx_to_token[idx]] * num_tokens)\n",
    "\n",
    "subsampled_dataset = [[tk for tk in st if not discard(tk)] for st in dataset]\n",
    "'# tokens: %d' % sum([len(st) for st in subsampled_dataset]) # '# tokens: '"
   ]
  },
  {
   "cell_type": "markdown",
   "metadata": {},
   "source": [
    "# 提取中心词和背景词"
   ]
  },
  {
   "cell_type": "code",
   "execution_count": 27,
   "metadata": {},
   "outputs": [],
   "source": [
    "def get_centers_and_contexts(dataset, max_window_size):\n",
    "    centers, contexts = [], []\n",
    "    for st in dataset:\n",
    "        if len(st) < 2:  # 每个句子至少要有2个词才可能组成一对“中心词-背景词”\n",
    "            continue\n",
    "        centers += st\n",
    "        for center_i in range(len(st)):\n",
    "            window_size = random.randint(1, max_window_size)\n",
    "            indices = list(range(max(0, center_i - window_size),\n",
    "                                 min(len(st), center_i + 1 + window_size)))\n",
    "            indices.remove(center_i)  # 将中心词排除在背景词之外\n",
    "            contexts.append([st[idx] for idx in indices])\n",
    "    return centers, contexts"
   ]
  },
  {
   "cell_type": "code",
   "execution_count": 28,
   "metadata": {},
   "outputs": [
    {
     "name": "stdout",
     "output_type": "stream",
     "text": [
      "dataset [[0, 1, 2, 3, 4, 5, 6], [7, 8, 9]]\n",
      "center 0 has contexts [1, 2]\n",
      "center 1 has contexts [0, 2]\n",
      "center 2 has contexts [0, 1, 3, 4]\n",
      "center 3 has contexts [1, 2, 4, 5]\n",
      "center 4 has contexts [2, 3, 5, 6]\n",
      "center 5 has contexts [3, 4, 6]\n",
      "center 6 has contexts [4, 5]\n",
      "center 7 has contexts [8, 9]\n",
      "center 8 has contexts [7, 9]\n",
      "center 9 has contexts [8]\n"
     ]
    }
   ],
   "source": [
    "tiny_dataset = [list(range(7)), list(range(7, 10))]\n",
    "print('dataset', tiny_dataset)\n",
    "for center, context in zip(*get_centers_and_contexts(tiny_dataset, 2)):\n",
    "    print('center', center, 'has contexts', context)\n"
   ]
  },
  {
   "cell_type": "code",
   "execution_count": 29,
   "metadata": {},
   "outputs": [],
   "source": [
    "all_centers, all_contexts = get_centers_and_contexts(subsampled_dataset, 5)"
   ]
  },
  {
   "cell_type": "markdown",
   "metadata": {},
   "source": [
    "# 负采样"
   ]
  },
  {
   "cell_type": "code",
   "execution_count": 30,
   "metadata": {},
   "outputs": [],
   "source": [
    "def get_negatives(all_contexts, sampling_weights, K):\n",
    "    all_negatives, neg_candidates, i = [], [], 0\n",
    "    population = list(range(len(sampling_weights)))\n",
    "    for contexts in all_contexts:\n",
    "        negatives = []\n",
    "        while len(negatives) < len(contexts) * K:\n",
    "            if i == len(neg_candidates):\n",
    "                # 根据每个词的权重（sampling_weights）随机生成k个词的索引作为噪声词。\n",
    "                # 为了高效计算，可以将k设得稍大一点\n",
    "                i, neg_candidates = 0, random.choices(\n",
    "                    population, sampling_weights, k=int(1e5))\n",
    "            neg, i = neg_candidates[i], i + 1\n",
    "            # 噪声词不能是背景词\n",
    "            if neg not in set(contexts):\n",
    "                negatives.append(neg)\n",
    "        all_negatives.append(negatives)\n",
    "    return all_negatives\n",
    "\n",
    "sampling_weights = [counter[w]**0.75 for w in idx_to_token]\n",
    "all_negatives = get_negatives(all_contexts, sampling_weights, 5)"
   ]
  },
  {
   "cell_type": "code",
   "execution_count": 31,
   "metadata": {},
   "outputs": [],
   "source": [
    "class MyDataset(torch.utils.data.Dataset):\n",
    "    def __init__(self, centers, contexts, negatives):\n",
    "        assert len(centers) == len(contexts) == len(negatives)\n",
    "        self.centers = centers\n",
    "        self.contexts = contexts\n",
    "        self.negatives = negatives\n",
    "\n",
    "    def __getitem__(self, index):\n",
    "        return (self.centers[index], self.contexts[index], self.negatives[index])\n",
    "\n",
    "    def __len__(self):\n",
    "        return len(self.centers)"
   ]
  },
  {
   "cell_type": "code",
   "execution_count": 32,
   "metadata": {},
   "outputs": [],
   "source": [
    "def batchify(data):\n",
    "    \"\"\"用作DataLoader的参数collate_fn: 输入是个长为batchsize的list, \n",
    "    list中的每个元素都是Dataset类调用__getitem__得到的结果\n",
    "    \"\"\"\n",
    "    max_len = max(len(c) + len(n) for _, c, n in data)\n",
    "    centers, contexts_negatives, masks, labels = [], [], [], []\n",
    "    for center, context, negative in data:\n",
    "        cur_len = len(context) + len(negative)\n",
    "        centers += [center]\n",
    "        contexts_negatives += [context + negative + [0] * (max_len - cur_len)]\n",
    "        masks += [[1] * cur_len + [0] * (max_len - cur_len)]\n",
    "        labels += [[1] * len(context) + [0] * (max_len - len(context))]\n",
    "    return (torch.tensor(centers).view(-1, 1), torch.tensor(contexts_negatives),\n",
    "            torch.tensor(masks), torch.tensor(labels))\n"
   ]
  },
  {
   "cell_type": "code",
   "execution_count": 33,
   "metadata": {},
   "outputs": [
    {
     "name": "stdout",
     "output_type": "stream",
     "text": [
      "centers shape: torch.Size([512, 1])\n",
      "contexts_negatives shape: torch.Size([512, 42])\n",
      "masks shape: torch.Size([512, 42])\n",
      "labels shape: torch.Size([512, 42])\n"
     ]
    }
   ],
   "source": [
    "batch_size = 512\n",
    "num_workers = 0 if sys.platform.startswith('win32') else 4\n",
    "\n",
    "dataset = MyDataset(all_centers, \n",
    "                    all_contexts, \n",
    "                    all_negatives)\n",
    "data_iter = Data.DataLoader(dataset, batch_size, shuffle=True,\n",
    "                            collate_fn=batchify, \n",
    "                            num_workers=num_workers)\n",
    "for batch in data_iter:\n",
    "    for name, data in zip(['centers', 'contexts_negatives', 'masks',\n",
    "                           'labels'], batch):\n",
    "        print(name, 'shape:', data.shape)\n",
    "    break\n"
   ]
  },
  {
   "cell_type": "code",
   "execution_count": 34,
   "metadata": {},
   "outputs": [
    {
     "data": {
      "text/plain": [
       "Parameter containing:\n",
       "tensor([[-1.7168,  1.5454,  1.5316,  0.5437],\n",
       "        [ 0.4663, -0.7534,  0.4916,  0.0569],\n",
       "        [-0.3986,  0.9203,  0.1550,  0.1650],\n",
       "        [-0.1046, -0.4030, -0.5459, -0.3333],\n",
       "        [ 0.4725,  0.3025,  1.6655,  0.4323],\n",
       "        [-1.1341,  1.8225, -0.3170, -1.0209],\n",
       "        [ 0.3295,  0.9251,  2.5884,  0.1076],\n",
       "        [-0.7215,  1.7432,  1.3368,  1.3773],\n",
       "        [ 0.6271,  0.5001,  0.3959, -0.0629],\n",
       "        [ 0.2785,  0.9637, -1.4650,  0.3057],\n",
       "        [-0.3053, -0.6449,  0.7515,  0.7903],\n",
       "        [ 0.6640, -0.8161, -0.7772, -1.6631],\n",
       "        [-1.7117, -1.2093,  1.7904,  0.0648],\n",
       "        [ 0.2697,  1.5622, -0.5857, -0.5732],\n",
       "        [ 1.5137, -0.9952,  0.4684, -0.7182],\n",
       "        [-1.0255, -0.4127,  0.5263, -0.0618],\n",
       "        [ 0.7937,  0.4219,  1.6367,  0.3985],\n",
       "        [ 0.8639, -0.0248,  0.2762,  0.0393],\n",
       "        [-0.9568,  2.9950, -0.5155,  0.2228],\n",
       "        [ 0.2126,  1.8832, -0.5369, -0.8803]], requires_grad=True)"
      ]
     },
     "execution_count": 34,
     "metadata": {},
     "output_type": "execute_result"
    }
   ],
   "source": [
    "embed = nn.Embedding(num_embeddings=20, embedding_dim=4)\n",
    "embed.weight\n"
   ]
  },
  {
   "cell_type": "code",
   "execution_count": 35,
   "metadata": {},
   "outputs": [
    {
     "data": {
      "text/plain": [
       "tensor([[[ 0.4663, -0.7534,  0.4916,  0.0569],\n",
       "         [-0.3986,  0.9203,  0.1550,  0.1650],\n",
       "         [-0.1046, -0.4030, -0.5459, -0.3333]],\n",
       "\n",
       "        [[ 0.4725,  0.3025,  1.6655,  0.4323],\n",
       "         [-1.1341,  1.8225, -0.3170, -1.0209],\n",
       "         [ 0.3295,  0.9251,  2.5884,  0.1076]]], grad_fn=<EmbeddingBackward>)"
      ]
     },
     "execution_count": 35,
     "metadata": {},
     "output_type": "execute_result"
    }
   ],
   "source": [
    "x = torch.tensor([[1, 2, 3], [4, 5, 6]], dtype=torch.long)\n",
    "embed(x)\n"
   ]
  },
  {
   "cell_type": "markdown",
   "metadata": {},
   "source": [
    "# 小批量乘法"
   ]
  },
  {
   "cell_type": "code",
   "execution_count": 36,
   "metadata": {},
   "outputs": [
    {
     "data": {
      "text/plain": [
       "torch.Size([2, 1, 6])"
      ]
     },
     "execution_count": 36,
     "metadata": {},
     "output_type": "execute_result"
    }
   ],
   "source": [
    "X = torch.ones((2, 1, 4))\n",
    "Y = torch.ones((2, 4, 6))\n",
    "torch.bmm(X, Y).shape\n"
   ]
  },
  {
   "cell_type": "markdown",
   "metadata": {},
   "source": [
    "# 跳字模型向前计算"
   ]
  },
  {
   "cell_type": "code",
   "execution_count": 37,
   "metadata": {},
   "outputs": [],
   "source": [
    "def skip_gram(center, contexts_and_negatives, embed_v, embed_u):\n",
    "    v = embed_v(center)\n",
    "    u = embed_u(contexts_and_negatives)\n",
    "    pred = torch.bmm(v, u.permute(0, 2, 1))\n",
    "    return pred\n"
   ]
  },
  {
   "cell_type": "markdown",
   "metadata": {},
   "source": [
    "# 训练模型"
   ]
  },
  {
   "cell_type": "markdown",
   "metadata": {},
   "source": [
    "# 交叉熵损失函数"
   ]
  },
  {
   "cell_type": "code",
   "execution_count": 38,
   "metadata": {},
   "outputs": [],
   "source": [
    "class SigmoidBinaryCrossEntropyLoss(nn.Module):\n",
    "    def __init__(self): # none mean sum\n",
    "        super(SigmoidBinaryCrossEntropyLoss, self).__init__()\n",
    "    def forward(self, inputs, targets, mask=None):\n",
    "        \"\"\"\n",
    "        input – Tensor shape: (batch_size, len)\n",
    "        target – Tensor of the same shape as input\n",
    "        \"\"\"\n",
    "        inputs, targets, mask = inputs.float(), targets.float(), mask.float()\n",
    "        res = nn.functional.binary_cross_entropy_with_logits(inputs, targets, reduction=\"none\", weight=mask)\n",
    "        return res.mean(dim=1)\n",
    "\n",
    "loss = SigmoidBinaryCrossEntropyLoss()\n"
   ]
  },
  {
   "cell_type": "code",
   "execution_count": 39,
   "metadata": {},
   "outputs": [
    {
     "data": {
      "text/plain": [
       "tensor([0.8740, 1.2100])"
      ]
     },
     "execution_count": 39,
     "metadata": {},
     "output_type": "execute_result"
    }
   ],
   "source": [
    "pred = torch.tensor([[1.5, 0.3, -1, 2], [1.1, -0.6, 2.2, 0.4]])\n",
    "# 标签变量label中的1和0分别代表背景词和噪声词\n",
    "label = torch.tensor([[1, 0, 0, 0], [1, 1, 0, 0]])\n",
    "mask = torch.tensor([[1, 1, 1, 1], [1, 1, 1, 0]])  # 掩码变量\n",
    "loss(pred, label, mask) * mask.shape[1] / mask.float().sum(dim=1)\n"
   ]
  },
  {
   "cell_type": "code",
   "execution_count": 40,
   "metadata": {},
   "outputs": [
    {
     "name": "stdout",
     "output_type": "stream",
     "text": [
      "0.8740\n",
      "1.2100\n"
     ]
    }
   ],
   "source": [
    "def sigmd(x):\n",
    "    return - math.log(1 / (1 + math.exp(-x)))\n",
    "\n",
    "print('%.4f' % ((sigmd(1.5) + sigmd(-0.3) + sigmd(1) + sigmd(-2)) / 4)) # 注意1-sigmoid(x) = sigmoid(-x)\n",
    "print('%.4f' % ((sigmd(1.1) + sigmd(-0.6) + sigmd(-2.2)) / 3))\n"
   ]
  },
  {
   "cell_type": "markdown",
   "metadata": {},
   "source": [
    "# 初始化模型参数"
   ]
  },
  {
   "cell_type": "code",
   "execution_count": 41,
   "metadata": {},
   "outputs": [],
   "source": [
    "embed_size = 100\n",
    "net = nn.Sequential(\n",
    "    nn.Embedding(num_embeddings=len(idx_to_token), embedding_dim=embed_size),\n",
    "    nn.Embedding(num_embeddings=len(idx_to_token), embedding_dim=embed_size)\n",
    ")\n"
   ]
  },
  {
   "cell_type": "markdown",
   "metadata": {},
   "source": [
    "# 定义训练函数"
   ]
  },
  {
   "cell_type": "code",
   "execution_count": 71,
   "metadata": {},
   "outputs": [],
   "source": [
    "def train(net, lr, num_epochs):\n",
    "    device = torch.device('cuda' if torch.cuda.is_available() else 'cpu')\n",
    "    print(\"train on\", device)\n",
    "    net = net.to(device)\n",
    "    optimizer = torch.optim.Adam(net.parameters(), lr=lr)\n",
    "    for epoch in range(num_epochs):\n",
    "        start, l_sum, n = time.time(), 0.0, 0\n",
    "        for batch in data_iter:\n",
    "            center, context_negative, mask, label = [d.to(device) for d in batch]\n",
    "\n",
    "            pred = skip_gram(center, context_negative, net[0], net[1])\n",
    "\n",
    "            # 使用掩码变量mask来避免填充项对损失函数计算的影响\n",
    "            l = (loss(pred.view(label.shape), label, mask) *\n",
    "                 mask.shape[1] / mask.float().sum(dim=1)).mean() # 一个batch的平均loss\n",
    "            optimizer.zero_grad()\n",
    "            l.backward()\n",
    "            optimizer.step()\n",
    "            l_sum += l.cpu().item()\n",
    "            n += 1\n",
    "        print('epoch %d, loss %.2f, time %.2fs'\n",
    "              % (epoch + 1, l_sum / n, time.time() - start))\n"
   ]
  },
  {
   "cell_type": "code",
   "execution_count": 43,
   "metadata": {},
   "outputs": [
    {
     "name": "stdout",
     "output_type": "stream",
     "text": [
      "train on cuda\n",
      "epoch 1, loss 3.94, time 0.48s\n",
      "epoch 2, loss 3.13, time 0.19s\n",
      "epoch 3, loss 2.53, time 0.19s\n",
      "epoch 4, loss 2.05, time 0.19s\n",
      "epoch 5, loss 1.66, time 0.19s\n",
      "epoch 6, loss 1.34, time 0.19s\n",
      "epoch 7, loss 1.09, time 0.20s\n",
      "epoch 8, loss 0.88, time 0.19s\n",
      "epoch 9, loss 0.72, time 0.19s\n",
      "epoch 10, loss 0.59, time 0.20s\n"
     ]
    }
   ],
   "source": [
    "#开始训练\n",
    "train(net, 0.008, 10)"
   ]
  },
  {
   "cell_type": "code",
   "execution_count": 44,
   "metadata": {},
   "outputs": [
    {
     "name": "stdout",
     "output_type": "stream",
     "text": [
      "happening词嵌入: torch.Size([100]) \n",
      "\n",
      "cosine sim=0.359: Eiffel\n",
      "cosine sim=0.337: Cpl\n",
      "cosine sim=0.335: Ukraine\n"
     ]
    }
   ],
   "source": [
    "def get_similar_tokens(query_token, k, embed):\n",
    "    W = embed.weight.data\n",
    "    x = W[token_to_idx[query_token]]\n",
    "    print(query_token + \"词嵌入:\", x.shape, \"\\n\")\n",
    "    # 添加的1e-9是为了数值稳定性\n",
    "    cos = torch.matmul(W, x) / (torch.sum(W * W, dim=1) * torch.sum(x * x) + 1e-9).sqrt()\n",
    "    _, topk = torch.topk(cos, k=k+1)\n",
    "    topk = topk.cpu().numpy()\n",
    "    for i in topk[1:]:  # 除去输入词\n",
    "        print('cosine sim=%.3f: %s' % (cos[i], (idx_to_token[i])))\n",
    "\n",
    "get_similar_tokens('happening', 3, net[0])"
   ]
  },
  {
   "cell_type": "markdown",
   "metadata": {},
   "source": [
    "# 保存模型"
   ]
  },
  {
   "cell_type": "code",
   "execution_count": null,
   "metadata": {},
   "outputs": [],
   "source": [
    "d1 = {\n",
    "    'en':'英语',\n",
    "    'cn':'中文',\n",
    "    'fr':'法语',\n",
    "    'jp':'日语'\n",
    "}\n",
    "l1 = list(d1.items())\n",
    "d1"
   ]
  },
  {
   "cell_type": "code",
   "execution_count": 46,
   "metadata": {},
   "outputs": [
    {
     "name": "stdout",
     "output_type": "stream",
     "text": [
      "('LATEST', 0)\n"
     ]
    }
   ],
   "source": [
    "token_to_idx_list = list(token_to_idx.items()) #将词典转换为list\n",
    "print(token_to_idx_list[0])\n",
    "with open(\"./data/token_to_idx.txt\", 'w') as f:\n",
    "    f.seek(0)\n",
    "    f.truncate()\n",
    "with open(\"./data/token_to_idx.txt\", 'a', encoding='utf8') as f:\n",
    "    for i in token_to_idx_list:\n",
    "        f.write(i[0] + \"\\t\" + str(i[1]) + '\\n')\n",
    "    "
   ]
  },
  {
   "cell_type": "markdown",
   "metadata": {},
   "source": [
    "# 保存模型"
   ]
  },
  {
   "cell_type": "code",
   "execution_count": 47,
   "metadata": {},
   "outputs": [],
   "source": [
    "#保存模型embedding\n",
    "torch.save(net, \"./data/net.pt\")"
   ]
  },
  {
   "cell_type": "markdown",
   "metadata": {},
   "source": [
    "# 加载模型"
   ]
  },
  {
   "cell_type": "code",
   "execution_count": null,
   "metadata": {},
   "outputs": [],
   "source": [
    "embed_size = 100\n",
    "net1 = nn.Sequential(\n",
    "    nn.Embedding(num_embeddings=len(idx_to_token), embedding_dim=embed_size),\n",
    "    nn.Embedding(num_embeddings=len(idx_to_token), embedding_dim=embed_size)\n",
    ")\n",
    "net1 = torch.load(\"./data/net.pt\")\n",
    "net1.eval()"
   ]
  },
  {
   "cell_type": "code",
   "execution_count": null,
   "metadata": {},
   "outputs": [],
   "source": [
    "type(net[0])"
   ]
  },
  {
   "cell_type": "code",
   "execution_count": null,
   "metadata": {},
   "outputs": [],
   "source": [
    "for param_tensor in net[0].state_dict():\n",
    "    print(param_tensor, \n",
    "          \"\\t\", \n",
    "          net[0].state_dict()[param_tensor].size()\n",
    "         )"
   ]
  },
  {
   "cell_type": "code",
   "execution_count": null,
   "metadata": {
    "scrolled": true
   },
   "outputs": [],
   "source": [
    "print(net[0])"
   ]
  },
  {
   "cell_type": "code",
   "execution_count": null,
   "metadata": {},
   "outputs": [],
   "source": [
    "print(net[0].weight.data[token_to_idx[\"Germanwings\"]])"
   ]
  },
  {
   "cell_type": "code",
   "execution_count": null,
   "metadata": {},
   "outputs": [],
   "source": [
    "type(net[0].weight.data)"
   ]
  },
  {
   "cell_type": "code",
   "execution_count": null,
   "metadata": {},
   "outputs": [],
   "source": [
    "net[0].weight.data.shape"
   ]
  },
  {
   "cell_type": "code",
   "execution_count": null,
   "metadata": {},
   "outputs": [],
   "source": [
    "torch.save(net.state_dict(), \"net_params.pkl\")"
   ]
  },
  {
   "cell_type": "code",
   "execution_count": null,
   "metadata": {},
   "outputs": [],
   "source": [
    "print(torch.load('net_params.pkl'))"
   ]
  },
  {
   "cell_type": "code",
   "execution_count": null,
   "metadata": {},
   "outputs": [],
   "source": []
  }
 ],
 "metadata": {
  "kernelspec": {
   "display_name": "Python 3",
   "language": "python",
   "name": "python3"
  },
  "language_info": {
   "codemirror_mode": {
    "name": "ipython",
    "version": 3
   },
   "file_extension": ".py",
   "mimetype": "text/x-python",
   "name": "python",
   "nbconvert_exporter": "python",
   "pygments_lexer": "ipython3",
   "version": "3.6.5"
  }
 },
 "nbformat": 4,
 "nbformat_minor": 4
}
